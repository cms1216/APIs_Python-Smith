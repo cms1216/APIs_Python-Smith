{
 "cells": [
  {
   "cell_type": "markdown",
   "metadata": {},
   "source": [
    "# CSE-10102-01\n",
    "\n",
    "## Elements of Computing II\n",
    "\n",
    "Student Name: **Connor Smith**\n",
    "<br>\n",
    "Net ID: **csmith77**\n",
    "<br>\n",
    "Title: **Working with APIs in python**"
   ]
  },
  {
   "cell_type": "markdown",
   "metadata": {},
   "source": [
    "**Q1: What are we seeing in the browser or in this sample JSON? Some of the specific fields? What do we think this might look like when we bring it into Python?**"
   ]
  },
  {
   "cell_type": "markdown",
   "metadata": {},
   "source": [
    "<blockquote>AnswerQ1. In this sample JSON code, we are seeing the api output for a github account named \"jackfrued\" and his different URLs for pages such as his followers, repositiories, and user information. Specificaly, we are looking at his repositiory named \"Python-100-days\". Some specific datafields I see are the multiple URLs to use, the laguange the code is written in, and size of the repository. When we bring this code into python, I'm not really sure what it would output but I assume it would output a page that is similar to the page that is being referenced in the code. </blockquote>"
   ]
  },
  {
   "cell_type": "markdown",
   "metadata": {},
   "source": [
    "**Q2: Describe how a web API works in your own words.**"
   ]
  },
  {
   "cell_type": "markdown",
   "metadata": {},
   "source": [
    "<blockquote>AnswerQ2. A web API works by allowing an outside user to extrapolate and understand data from a website without giving that user direct access to the who datastore and without compramising data privacy and security. API's are used to interface with the greater system to make things easier for the user.</blockquote>"
   ]
  },
  {
   "cell_type": "markdown",
   "metadata": {},
   "source": [
    "**Q3: Find another GitHub search result URL and write an API call from Python. Select a single repository from the API return. Write the API return to a JSON file. Include code + comments.**"
   ]
  },
  {
   "cell_type": "code",
   "execution_count": null,
   "metadata": {},
   "outputs": [],
   "source": [
    "# access json system\n",
    "import json\n",
    "\n",
    "# access request system\n",
    "import requests\n",
    "\n",
    "# assign searh url as a variable\n",
    "url = 'https://github.com/search?q=videogames'\n",
    "\n",
    "# identify the headers variable\n",
    "headers = {'Accept': 'application/vnd.github.v3+json'}\n",
    "\n",
    "# create a path for the requests\n",
    "r = requests.get(url, headers=headers)\n",
    "\n",
    "# print the status of the requests from above\n",
    "print(f\"Status code: {r.status_code}\")\n",
    "\n",
    "# give the response as a json a variable\n",
    "response_dict = r.json()\n",
    "\n",
    "# print the number of repositories that come up in the search\n",
    "print(f\"Total repositories: {response_dict['total_count']}\")\n",
    "\n",
    "# assign a dictionary of items to a variable\n",
    "repo_dicts = response_dict['items']\n",
    "\n",
    "# print how many items are in the dictionary\n",
    "print(f\"Repositories returned: {len(repo_dicts)}\")\n",
    "\n",
    "# access the first item in the dictionary\n",
    "repo_dict = repo_dicts[0]\n",
    "\n",
    "# create a JSON file and print the first dictionary to it\n",
    "with open('output.json', 'w') as json_file:\n",
    "  json.dump(repo_dict, json_file)"
   ]
  },
  {
   "cell_type": "markdown",
   "metadata": {},
   "source": [
    "**Q4: Describe your experience working with the Census Bureau API. What was rewarding? What was challenging? How did you solve those challenges?**"
   ]
  },
  {
   "cell_type": "markdown",
   "metadata": {},
   "source": [
    "<blockquote>AnswerQ4. Working with census data was a cool idea but it was quite hard for me to find the data I was looking for. I followed the lab proceedure and it was still hard to follow where it was going and look a while of me stumbling around on the page to find the useful information. It would have been much more hepful if there was only one link that presented the user with all helpful information catagorized in a table for easy access.</blockquote>"
   ]
  },
  {
   "cell_type": "markdown",
   "metadata": {},
   "source": [
    "**Project Prompt: Navigate to an open data portal and construct an API call. View the API source in a browser. What are you seeing? How can we start to make sense of this data using available documentation? Construct an API call in Python. Interact with the data in Python to identify/pull out relevant key-value pairs. Take a subset of the data and write to a JSON file. Include code + comments.**"
   ]
  },
  {
   "cell_type": "markdown",
   "metadata": {},
   "source": [
    "<blockquote>Answer Project Prompt. When viewing the API source in the browser I am seeing a common deliniminated list of data points that are being called from the API. By using the variables tab in this data set that was not present with the other set, I was able to understand what each variable meant and understand what I was calling to my code by referencing those variables.</blockquote>"
   ]
  },
  {
   "cell_type": "code",
   "execution_count": null,
   "metadata": {},
   "outputs": [],
   "source": [
    "# access request system\n",
    "import requests\n",
    "\n",
    "# access json system\n",
    "import json\n",
    "\n",
    "# call the API for the Annual Business Survey\n",
    "calledAPI = \"https://api.census.gov/data/2018/abscb?get=GEO_ID,NAME,SEX,SEX_LABEL,ETH_GROUP,ETH_GROUP_LABEL,YEAR,FIRMPDEMP,FIRMPDEMP_F,FIRMPDEMP_PCT,FIRMPDEMP_PCT_F,RCPPDEMP,RCPPDEMP_F,RCPPDEMP_PCT,RCPPDEMP_PCT_F,EMP,EMP_F,EMP_PCT,EMP_PCT_F,PAYANN,PAYANN_F,PAYANN_PCT,PAYANN_PCT_F,FIRMPDEMP_S,FIRMPDEMP_S_F,FIRMPDEMP_PCT_S,FIRMPDEMP_PCT_S_F,RCPPDEMP_S,RCPPDEMP_S_F,RCPPDEMP_PCT_S,RCPPDEMP_PCT_S_F,EMP_S,EMP_S_F,EMP_PCT_S,EMP_PCT_S_F,PAYANN_S,PAYANN_S_F,PAYANN_PCT_S,PAYANN_PCT_S_F&for=us:*&QDESC_LABEL=SPOUSES&key=d4508d49d00145f67f5e706c2c540915d6095b9d\"\n",
    "\n",
    "# give the contents of the call to a variable\n",
    "response = requests.get(calledAPI)\n",
    "\n",
    "# taking the actual data and putting it on a json variable\n",
    "formattedResponse = json.loads(response.text)[1:]\n",
    "# Note: If you receive an error like '''JSONDecodeError: Expecting value: line 2 column 1 (char 1)''', \n",
    "# toggle between double quotes (\" \") and single quotes (' ') in calledAPI\n",
    "\n",
    "# print the JSON varibale to a file\n",
    "with open('output.json', 'w') as json_file:\n",
    "  json.dump(formattedResponse, json_file)"
   ]
  }
 ],
 "metadata": {
  "kernelspec": {
   "display_name": "Python 3",
   "language": "python",
   "name": "python3"
  },
  "language_info": {
   "codemirror_mode": {
    "name": "ipython",
    "version": 3
   },
   "file_extension": ".py",
   "mimetype": "text/x-python",
   "name": "python",
   "nbconvert_exporter": "python",
   "pygments_lexer": "ipython3",
   "version": "3.8.5"
  }
 },
 "nbformat": 4,
 "nbformat_minor": 5
}
